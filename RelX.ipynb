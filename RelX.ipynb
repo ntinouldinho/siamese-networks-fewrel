{
 "cells": [
  {
   "cell_type": "markdown",
   "metadata": {},
   "source": [
    "<h>Importing Required Libraries<h>"
   ]
  },
  {
   "cell_type": "code",
   "execution_count": 1,
   "metadata": {
    "ExecuteTime": {
     "end_time": "2024-03-08T13:08:05.636377Z",
     "start_time": "2024-03-08T13:08:04.252979Z"
    }
   },
   "outputs": [],
   "source": [
    "import torch\n",
    "import torch.nn as nn\n",
    "import torch.utils.data\n",
    "import torch.nn.functional as F\n",
    "from torch import nn, optim\n",
    "import os\n",
    "import json\n",
    "import numpy as np\n",
    "import math\n",
    "import sys\n",
    "import random\n",
    "import fewrel_dataset\n",
    "import sentence_encoder\n",
    "import siamese_model"
   ]
  },
  {
   "cell_type": "markdown",
   "metadata": {},
   "source": [
    "<h>Make sure you run the <b>download_pretrain.sh<b> script, which will download the pretrained GloVe files, containg the embeddings for the tokens used in this dataset<h>"
   ]
  },
  {
   "cell_type": "code",
   "execution_count": 2,
   "metadata": {
    "ExecuteTime": {
     "end_time": "2024-03-08T13:08:22.436576Z",
     "start_time": "2024-03-08T13:08:22.056006Z"
    }
   },
   "outputs": [],
   "source": [
    "def collate_fn(data):\n",
    "    data = data\n",
    "    batch_support = {'word': [], 'pos1': [], 'pos2': [], 'mask': []}\n",
    "    batch_query = {'word': [], 'pos1': [], 'pos2': [], 'mask': []}\n",
    "    batch_label = []\n",
    "    support_sets, query_sets, query_labels = zip(*data)\n",
    "    for i in range(len(support_sets)):\n",
    "        for k in support_sets[i]:\n",
    "            batch_support[k] += support_sets[i][k]\n",
    "        for k in query_sets[i]:\n",
    "            batch_query[k] += query_sets[i][k]\n",
    "        batch_label += query_labels[i]\n",
    "    for k in batch_support:\n",
    "        batch_support[k] = torch.stack(batch_support[k], 0)\n",
    "    for k in batch_query:\n",
    "        batch_query[k] = torch.stack(batch_query[k], 0)\n",
    "    batch_label = torch.tensor(batch_label)\n",
    "    return batch_support, batch_query, batch_label\n",
    "\n",
    "def get_loader(name, encoder, N, K, Q, batch_size, \n",
    "        num_workers=0, collate_fn=collate_fn, na_rate=0, root='./data', testing=False):\n",
    "    dataset = fewrel_dataset.FewRelDataset(name, encoder, N, K, Q, na_rate, root, testing)\n",
    "    data_loader = torch.utils.data.DataLoader(dataset=dataset,\n",
    "            batch_size=batch_size,\n",
    "            shuffle=False,\n",
    "            pin_memory=True,\n",
    "            num_workers=num_workers,\n",
    "            collate_fn=collate_fn)\n",
    "    return iter(data_loader)"
   ]
  },
  {
   "cell_type": "code",
   "execution_count": 3,
   "metadata": {
    "ExecuteTime": {
     "end_time": "2024-03-08T13:08:33.035049Z",
     "start_time": "2024-03-08T13:08:32.984537Z"
    }
   },
   "outputs": [],
   "source": [
    "def item(x):\n",
    "    '''\n",
    "    PyTorch before and after 0.4\n",
    "    '''\n",
    "    torch_version = torch.__version__.split('.')\n",
    "    if int(torch_version[0]) == 0 and int(torch_version[1]) < 4:\n",
    "        return x[0]\n",
    "    else:\n",
    "        return x.item()"
   ]
  },
  {
   "cell_type": "code",
   "execution_count": 4,
   "metadata": {
    "ExecuteTime": {
     "end_time": "2024-03-08T13:08:37.520975Z",
     "start_time": "2024-03-08T13:08:37.019556Z"
    }
   },
   "outputs": [],
   "source": [
    "trainN = 10\n",
    "batch_size = 5\n",
    "max_length = 64\n",
    "N = 5\n",
    "K = 5\n",
    "Q = 5\n",
    "\n",
    "glove_mat = np.load('./pretrain/glove/glove.6B.50d_mat.npy')\n",
    "glove_word2id = json.load(open('./pretrain/glove/glove.6B.50d_word2id.json'))\n",
    "\n",
    "sentence_encoder = sentence_encoder.CNNSentenceEncoder(glove_mat, glove_word2id, max_length)"
   ]
  },
  {
   "cell_type": "code",
   "execution_count": 5,
   "metadata": {
    "ExecuteTime": {
     "end_time": "2024-03-08T13:08:50.608306Z",
     "start_time": "2024-03-08T13:08:50.187593Z"
    }
   },
   "outputs": [],
   "source": [
    "train_data_loader = get_loader('train_wiki', sentence_encoder, N=trainN, K=K, Q=Q, na_rate=0, batch_size=batch_size, testing=False)"
   ]
  },
  {
   "cell_type": "code",
   "execution_count": 6,
   "metadata": {
    "ExecuteTime": {
     "end_time": "2024-03-08T13:08:53.356741Z",
     "start_time": "2024-03-08T13:08:53.350575Z"
    }
   },
   "outputs": [],
   "source": [
    "def eval(model, N, K, Q, eval_iter, na_rate=0): \n",
    "    eval_dataset = get_loader('val_wiki', sentence_encoder,\n",
    "        N=N, K=K, Q=Q, na_rate=0, batch_size=batch_size)\n",
    "\n",
    "    iter_right = 0.0\n",
    "    iter_sample = 0.0\n",
    "    with torch.no_grad():\n",
    "        for it in range(eval_iter):\n",
    "            support, query, label = next(eval_dataset)\n",
    "\n",
    "            logits, pred = model(support, query, N, K, Q * N + Q * na_rate)\n",
    "\n",
    "        right = model.accuracy(pred, label)\n",
    "        iter_right += item(right.data)\n",
    "        iter_sample += 1\n",
    "\n",
    "        sys.stdout.write('[EVAL] step: {0:4} | accuracy: {1:3.2f}%'.format(it + 1, 100 * iter_right / iter_sample) + '\\r')\n",
    "        sys.stdout.flush()\n",
    "    return iter_right / iter_sample"
   ]
  },
  {
   "cell_type": "code",
   "execution_count": null,
   "metadata": {
    "ExecuteTime": {
     "start_time": "2024-03-08T13:17:09.073846Z"
    },
    "is_executing": true
   },
   "outputs": [],
   "source": [
    "train_iter = 10000\n",
    "val_step = 200\n",
    "val_iter = 100\n",
    "hidden_size = 230\n",
    "learning_rate = 1e-1\n",
    "weight_decay = 1e-5\n",
    "using_checkpoint = False\n",
    "\n",
    "\n",
    "print('Start Training...')\n",
    "best_acc = 0\n",
    "iter_loss = 0.0\n",
    "iter_loss_dis = 0.0\n",
    "iter_right = 0.0\n",
    "iter_right_dis = 0.0\n",
    "iter_sample = 0.0\n",
    "\n",
    "model = siamese_model.Siamese(sentence_encoder, hidden_size=hidden_size, dropout=0.0)\n",
    "optimizer = optim.Adam(model.parameters(), learning_rate, weight_decay=weight_decay)\n",
    "scheduler = optim.lr_scheduler.StepLR(optimizer, step_size=20000)\n",
    "\n",
    "if using_checkpoint:\n",
    "    state_dict = torch.load('checkpoint/siamese-cnn-train_wiki-val_wiki-5-5-siamese-cnn-train_wiki-val_wiki-5-5.pth.tar')['state_dict']\n",
    "    own_state = model.state_dict()\n",
    "    for name, param in state_dict.items():\n",
    "        if name not in own_state:\n",
    "            print('ignore {}'.format(name))\n",
    "            continue\n",
    "        print('load {} from {}'.format(name, 'siamese-cnn-train_wiki-val_wiki-5-5-siamese-cnn-train_wiki-val_wiki-5-5'))\n",
    "        own_state[name].copy_(param)\n",
    "\n",
    "model.train()\n",
    "\n",
    "for it in range(train_iter):\n",
    "    support, query, label = next(train_data_loader)\n",
    "    logits, pred = model(support, query, trainN, K, Q * trainN)\n",
    "    \n",
    "\n",
    "    loss = model.loss(logits, label) / float(1)\n",
    "    right = model.accuracy(pred, label)\n",
    "\n",
    "    loss.backward()\n",
    "    torch.nn.utils.clip_grad_norm_(model.parameters(), 10)\n",
    "\n",
    "    iter_loss += item(loss.data)\n",
    "    iter_right += item(right.data)\n",
    "    iter_sample += 1\n",
    "\n",
    "    print('step: {0:4} | loss: {1:2.6f}, accuracy: {2:3.2f}%'.format(it + 1, iter_loss / iter_sample, 100 * iter_right / iter_sample) + '\\r')\n",
    "\n",
    "    if (it + 1) % val_step == 0:\n",
    "        acc = eval(model, N, K, Q, val_iter)\n",
    "        model.train()\n",
    "        if acc > best_acc:\n",
    "            print('Best checkpoint')\n",
    "            torch.save({'state_dict': model.state_dict()}, 'checkpoint/siamese-cnn-train_wiki-val_wiki-5-5-siamese-cnn-train_wiki-val_wiki-5-5.pth.tar')\n",
    "            best_acc = acc\n",
    "        iter_loss = 0.\n",
    "        iter_loss_dis = 0.\n",
    "        iter_right = 0.\n",
    "        iter_right_dis = 0.\n",
    "        iter_sample = 0.\n",
    "\n",
    "    print(\"\\n####################\\n\")\n",
    "    print(\"Finish training \")\n"
   ]
  },
  {
   "cell_type": "code",
   "execution_count": null,
   "metadata": {},
   "outputs": [
    {
     "name": "stdout",
     "output_type": "stream",
     "text": [
      "[EVAL] step:  100 | accuracy: 77.60%\n",
      "RESULT: 77.60\n"
     ]
    }
   ],
   "source": [
    "eval_iter = 100\n",
    "eval_dataset = get_loader('val_wiki', sentence_encoder, N=N, K=K, Q=Q, na_rate=0, batch_size=batch_size, testing=False)\n",
    "model.eval()\n",
    "\n",
    "if using_checkpoint:\n",
    "    ckpt = 'checkpoint/siamese-cnn-train_wiki-val_wiki-5-5-siamese-cnn-train_wiki-val_wiki-5-5.pth.tar'\n",
    "    state_dict = torch.load(ckpt)['state_dict']\n",
    "    own_state = model.state_dict()\n",
    "    for name, param in state_dict.items():\n",
    "        if name not in own_state:\n",
    "            continue\n",
    "        own_state[name].copy_(param)\n",
    "\n",
    "iter_right = 0.0\n",
    "iter_sample = 0.0\n",
    "with torch.no_grad():\n",
    "    for it in range(eval_iter):\n",
    "        support, query, label = next(eval_dataset)\n",
    "        logits, pred = model(support, query, N, K, Q * N)\n",
    "\n",
    "    right = model.accuracy(pred, label)\n",
    "    iter_right += item(right.data)\n",
    "    iter_sample += 1\n",
    "\n",
    "    print('[EVAL] step: {0:4} | accuracy: {1:3.2f}%'.format(it + 1, 100 * iter_right / iter_sample) + '\\r')\n",
    "    print(\"\")\n",
    "\n",
    "print(\"RESULT: %.2f\" % (iter_right / iter_sample * 100))"
   ]
  },
  {
   "cell_type": "code",
   "execution_count": null,
   "metadata": {
    "id": "Nl0kFuNUAPLm"
   },
   "outputs": [
    {
     "name": "stdout",
     "output_type": "stream",
     "text": [
      "Label= tensor([3])\n",
      "Prediction= tensor([0])\n",
      "Actual Relation:  sport\n",
      "Predicted Relation:  competition class\n"
     ]
    }
   ],
   "source": [
    "json_file = open('data/pid2name.json')\n",
    "id2name = json.load(json_file)\n",
    "\n",
    "if using_checkpoint:\n",
    "    ckpt = 'checkpoint/siamese-cnn-train_wiki-val_wiki-5-5-siamese-cnn-train_wiki-val_wiki-5-5.pth.tar'\n",
    "    state_dict = torch.load(ckpt)['state_dict']\n",
    "    own_state = model.state_dict()\n",
    "    for name, param in state_dict.items():\n",
    "        if name not in own_state:\n",
    "            continue\n",
    "        own_state[name].copy_(param)\n",
    "\n",
    "test_data_loader = get_loader('test_instance', sentence_encoder,\n",
    "            N=5, K=1, Q=1, na_rate=0, batch_size=1, testing=True)\n",
    "\n",
    "support, query, label = next(test_data_loader)\n",
    "print('Label=', label)\n",
    "\n",
    "logits, pred = model(support, query, 5, 1, 1)\n",
    "print('Prediction=', pred)\n",
    "\n",
    "mappings_file = open('class_mappings.json')\n",
    "maps = json.load(mappings_file)\n",
    "print('Actual Relation: ', id2name[maps[str(label.numpy()[0])]][0])\n",
    "print('Predicted Relation: ', id2name[maps[str(pred.numpy()[0])]][0])"
   ]
  }
 ],
 "metadata": {
  "colab": {
   "provenance": []
  },
  "kernelspec": {
   "display_name": "Python 3 (ipykernel)",
   "language": "python",
   "name": "python3"
  },
  "language_info": {
   "codemirror_mode": {
    "name": "ipython",
    "version": 3
   },
   "file_extension": ".py",
   "mimetype": "text/x-python",
   "name": "python",
   "nbconvert_exporter": "python",
   "pygments_lexer": "ipython3",
   "version": "3.11.6"
  }
 },
 "nbformat": 4,
 "nbformat_minor": 0
}
